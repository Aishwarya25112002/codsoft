{
 "cells": [
  {
   "cell_type": "code",
   "execution_count": 1,
   "id": "5ce9df32",
   "metadata": {},
   "outputs": [],
   "source": [
    "import pandas as pd \n",
    "import numpy as np\n",
    "import seaborn as sns\n",
    "import matplotlib.pyplot as plt\n",
    "from sklearn.model_selection import train_test_split\n",
    "from sklearn.linear_model import LogisticRegression\n",
    "from sklearn.tree import DecisionTreeClassifier\n",
    "from sklearn.ensemble import RandomForestClassifier\n",
    "from sklearn.metrics import classification_report, confusion_matrix, accuracy_score"
   ]
  },
  {
   "cell_type": "code",
   "execution_count": null,
   "id": "6ea6e00e",
   "metadata": {},
   "outputs": [],
   "source": [
    "train = pd.read_csv(\"fraudTrain.csv\")\n",
    "test = pd.read_csv(\"fraudTest.csv\")\n",
    "\n",
    "data = pd.concat([train, test])\n",
    "data.describe()"
   ]
  },
  {
   "cell_type": "code",
   "execution_count": null,
   "id": "b0c214b8",
   "metadata": {},
   "outputs": [],
   "source": [
    "print(train.shape)\n",
    "print(test.shape)"
   ]
  },
  {
   "cell_type": "code",
   "execution_count": null,
   "id": "9d077560",
   "metadata": {},
   "outputs": [],
   "source": [
    "display(data.head())\n",
    "print(data.describe())\n",
    "print(data.isnull().sum())"
   ]
  },
  {
   "cell_type": "code",
   "execution_count": null,
   "id": "fc84810d",
   "metadata": {},
   "outputs": [],
   "source": [
    "test.info"
   ]
  },
  {
   "cell_type": "code",
   "execution_count": null,
   "id": "78af74f9",
   "metadata": {},
   "outputs": [],
   "source": [
    "train.info"
   ]
  },
  {
   "cell_type": "code",
   "execution_count": null,
   "id": "29b66437",
   "metadata": {},
   "outputs": [],
   "source": [
    "from sklearn.preprocessing import LabelEncoder\n",
    "label_encoders = {}\n",
    "\n",
    "label_encode_cols = ['merchant', 'category', 'gender', 'state', 'job']\n",
    "for col in label_encode_cols:\n",
    "    le = LabelEncoder()\n",
    "    data[col] = le.fit_transform(data[col])\n",
    "    label_encoders[col] = le\n",
    "    \n",
    "    train[col] = le.fit_transform(train[col])\n",
    "    label_encoders[col] = le\n",
    "    \n",
    "    test[col] = le.fit_transform(test[col])\n",
    "    label_encoders[col] = le"
   ]
  },
  {
   "cell_type": "code",
   "execution_count": null,
   "id": "def33cb1",
   "metadata": {},
   "outputs": [],
   "source": [
    "data['trans_date_trans_time'] = pd.to_datetime(data['trans_date_trans_time'])\n",
    "data['dob'] = pd.to_datetime(data['dob'])\n",
    "\n",
    "data['transaction_year'] = data['trans_date_trans_time'].dt.year\n",
    "data['transaction_month'] = data['trans_date_trans_time'].dt.month\n",
    "data['transaction_day'] = data['trans_date_trans_time'].dt.day\n",
    "data['transaction_hour'] = data['trans_date_trans_time'].dt.hour\n",
    "\n",
    "data['birth_year'] = data['dob'].dt.year\n",
    "data['birth_month'] = data['dob'].dt.month\n",
    "data['birth_day'] = data['dob'].dt.day\n",
    "data.drop(['trans_date_trans_time', 'dob'], axis=1, inplace=True)\n",
    "train['trans_date_trans_time'] = pd.to_datetime(train['trans_date_trans_time'])\n",
    "train['dob'] = pd.to_datetime(train['dob'])\n",
    "\n",
    "train['transaction_year'] = train['trans_date_trans_time'].dt.year\n",
    "train['transaction_month'] = train['trans_date_trans_time'].dt.month\n",
    "train['transaction_day'] = train['trans_date_trans_time'].dt.day\n",
    "train['transaction_hour'] = train['trans_date_trans_time'].dt.hour\n",
    "\n",
    "train['birth_year'] = train['dob'].dt.year\n",
    "train['birth_month'] = train['dob'].dt.month\n",
    "train['birth_day'] = train['dob'].dt.day\n",
    "\n",
    "train.drop(['trans_date_trans_time', 'dob'], axis=1, inplace=True)\n",
    "\n",
    "test['trans_date_trans_time'] = pd.to_datetime(test['trans_date_trans_time'])\n",
    "test['dob'] =pd.to_datetime(test['dob'])\n",
    "\n",
    "test['transaction_year'] = test['trans_date_trans_time'].dt.year\n",
    "test['transaction_month'] = test['trans_date_trans_time'].dt.month\n",
    "test['transaction_day'] = test['trans_date_trans_time'].dt.day\n",
    "test['transaction_hour'] = test['trans_date_trans_time'].dt.hour\n",
    "test['birth_year'] = test['dob'].dt.year\n",
    "test['birth_month'] = test['dob'].dt.month\n",
    "test['birth_day'] = test['dob'].dt.day\n"
   ]
  },
  {
   "cell_type": "code",
   "execution_count": null,
   "id": "91bb8007",
   "metadata": {},
   "outputs": [],
   "source": [
    "test.drop(['trans_date_trans_time', 'dob'], axis=1, inplace=True)\n"
   ]
  },
  {
   "cell_type": "code",
   "execution_count": null,
   "id": "17285e32",
   "metadata": {},
   "outputs": [],
   "source": [
    "data.drop(['first', 'last', 'street', 'city', 'trans_num'], axis=1, inplace=True)\n",
    "train.drop(['first', 'last', 'street', 'city', 'trans_num'], axis=1, inplace=True)\n",
    "test.drop(['first', 'last', 'street', 'city', 'trans_num'], axis=1, inplace=True)\n"
   ]
  },
  {
   "cell_type": "code",
   "execution_count": null,
   "id": "eacf1088",
   "metadata": {},
   "outputs": [],
   "source": [
    "print(train.shape)\n",
    "print(test.shape)\n",
    "print(data.shape)"
   ]
  },
  {
   "cell_type": "code",
   "execution_count": null,
   "id": "721bd18f",
   "metadata": {},
   "outputs": [],
   "source": [
    "print(data.head(0))\n",
    "print(data.head())\n",
    "print(data.describe())\n",
    "print(data.isnull().sum())"
   ]
  },
  {
   "cell_type": "code",
   "execution_count": null,
   "id": "b8096e08",
   "metadata": {},
   "outputs": [],
   "source": [
    "import matplotlib.pyplot as plt\n",
    "import seaborn as sns\n",
    "\n",
    "sns.countplot(data=data, x='is_fraud')\n",
    "plt.title('Distribution of Fraudulent vs Non-Fraudulent Transactions')\n",
    "plt.show()"
   ]
  },
  {
   "cell_type": "code",
   "execution_count": null,
   "id": "b5b561a6",
   "metadata": {},
   "outputs": [],
   "source": [
    "print(data.index.duplicated().sum())\n",
    "data = data.reset_index(drop=True)\n",
    "print(data.index.duplicated().sum())"
   ]
  },
  {
   "cell_type": "code",
   "execution_count": null,
   "id": "46913568",
   "metadata": {},
   "outputs": [],
   "source": [
    "plt.figure(figsize=(12, 6))\n",
    "sns.countplot(data=data, y='category', hue='is_fraud')\n",
    "plt.title('Transaction Counts by Category and Fraud Status')\n",
    "plt.xticks(rotation=0)\n",
    "plt.show()"
   ]
  },
  {
   "cell_type": "code",
   "execution_count": null,
   "id": "1e0f948a",
   "metadata": {},
   "outputs": [],
   "source": [
    "## The 0 represent male and 1 represent female\n",
    "sns.countplot(data=data, x='gender', hue='is_fraud')\n",
    "plt.title('Transaction Counts by Gender and Fraud Status')\n",
    "plt.show()\n"
   ]
  },
  {
   "cell_type": "code",
   "execution_count": 2,
   "id": "e378e4c7",
   "metadata": {},
   "outputs": [
    {
     "ename": "NameError",
     "evalue": "name 'data' is not defined",
     "output_type": "error",
     "traceback": [
      "\u001b[1;31m---------------------------------------------------------------------------\u001b[0m",
      "\u001b[1;31mNameError\u001b[0m                                 Traceback (most recent call last)",
      "Cell \u001b[1;32mIn[2], line 2\u001b[0m\n\u001b[0;32m      1\u001b[0m plt\u001b[38;5;241m.\u001b[39mfigure(figsize\u001b[38;5;241m=\u001b[39m(\u001b[38;5;241m20\u001b[39m,\u001b[38;5;241m10\u001b[39m))\n\u001b[1;32m----> 2\u001b[0m sns\u001b[38;5;241m.\u001b[39mheatmap(\u001b[43mdata\u001b[49m\u001b[38;5;241m.\u001b[39mcorr(), annot\u001b[38;5;241m=\u001b[39m\u001b[38;5;28;01mTrue\u001b[39;00m, cmap\u001b[38;5;241m=\u001b[39m\u001b[38;5;124m'\u001b[39m\u001b[38;5;124mBlues\u001b[39m\u001b[38;5;124m'\u001b[39m)\n\u001b[0;32m      3\u001b[0m plt\u001b[38;5;241m.\u001b[39mtitle(\u001b[38;5;124m'\u001b[39m\u001b[38;5;124mCorrelation Heatmap\u001b[39m\u001b[38;5;124m'\u001b[39m)\n\u001b[0;32m      4\u001b[0m plt\u001b[38;5;241m.\u001b[39mshow()\n",
      "\u001b[1;31mNameError\u001b[0m: name 'data' is not defined"
     ]
    },
    {
     "data": {
      "text/plain": [
       "<Figure size 2000x1000 with 0 Axes>"
      ]
     },
     "metadata": {},
     "output_type": "display_data"
    }
   ],
   "source": [
    "plt.figure(figsize=(20,10))\n",
    "sns.heatmap(data.corr(), annot=True, cmap='Blues')\n",
    "plt.title('Correlation Heatmap')\n",
    "plt.show()"
   ]
  },
  {
   "cell_type": "code",
   "execution_count": null,
   "id": "8147c252",
   "metadata": {},
   "outputs": [],
   "source": [
    "X = data.drop('is_fraud', axis=1)\n",
    "y = data['is_fraud']\n",
    "\n",
    "X_train, X_test, y_train, y_test = train_test_split(X, y, test_size=0.2, random_state=42)"
   ]
  },
  {
   "cell_type": "code",
   "execution_count": null,
   "id": "0c16a3a8",
   "metadata": {},
   "outputs": [],
   "source": [
    "# Training the model for logisticRegression\n",
    "log_model = LogisticRegression(max_iter=1000)\n",
    "log_model.fit(X_train, y_train)\n",
    "y_pred = log_model.predict(X_test)\n",
    "print(classification_report(y_test, y_pred))\n",
    "print(confusion_matrix(y_test, y_pred))\n",
    "print(\"Accuracy:\", accuracy_score(y_test, y_pred))"
   ]
  },
  {
   "cell_type": "code",
   "execution_count": null,
   "id": "246c7582",
   "metadata": {},
   "outputs": [],
   "source": [
    "# Training the model with DecisionTreeClassifier\n",
    "tree_model = DecisionTreeClassifier()\n",
    "tree_model.fit(X_train, y_train)\n",
    "\n",
    "y_pred = tree_model.predict(X_test)\n",
    "print(classification_report(y_test, y_pred))\n",
    "print(confusion_matrix(y_test, y_pred))\n",
    "print(\"Accuracy:\", accuracy_score(y_test, y_pred))"
   ]
  },
  {
   "cell_type": "code",
   "execution_count": null,
   "id": "52336e19",
   "metadata": {},
   "outputs": [],
   "source": [
    "# Training the model with logistic Regression\n",
    "lr_model = LogisticRegression(max_iter=1000)\n",
    "lr_model.fit(X_train, y_train)\n",
    "\n",
    "y_pred = lr_model.predict(X_test)\n",
    "print(classification_report(y_test, y_pred))\n",
    "print(confusion_matrix(y_test, y_pred))\n",
    "print(\"Accuracy:\", accuracy_score(y_test, y_pred))"
   ]
  }
 ],
 "metadata": {
  "kernelspec": {
   "display_name": "Python 3 (ipykernel)",
   "language": "python",
   "name": "python3"
  },
  "language_info": {
   "codemirror_mode": {
    "name": "ipython",
    "version": 3
   },
   "file_extension": ".py",
   "mimetype": "text/x-python",
   "name": "python",
   "nbconvert_exporter": "python",
   "pygments_lexer": "ipython3",
   "version": "3.10.9"
  }
 },
 "nbformat": 4,
 "nbformat_minor": 5
}
